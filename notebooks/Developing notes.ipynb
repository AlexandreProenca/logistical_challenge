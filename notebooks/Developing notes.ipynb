{
 "cells": [
  {
   "cell_type": "code",
   "execution_count": 1,
   "metadata": {},
   "outputs": [],
   "source": [
    "import pandas as pd"
   ]
  },
  {
   "cell_type": "code",
   "execution_count": 2,
   "metadata": {},
   "outputs": [],
   "source": [
    "t = pd.read_csv(\"../assets/trucks.csv\")"
   ]
  },
  {
   "cell_type": "code",
   "execution_count": 3,
   "metadata": {},
   "outputs": [
    {
     "data": {
      "text/html": [
       "<div>\n",
       "<style scoped>\n",
       "    .dataframe tbody tr th:only-of-type {\n",
       "        vertical-align: middle;\n",
       "    }\n",
       "\n",
       "    .dataframe tbody tr th {\n",
       "        vertical-align: top;\n",
       "    }\n",
       "\n",
       "    .dataframe thead th {\n",
       "        text-align: right;\n",
       "    }\n",
       "</style>\n",
       "<table border=\"1\" class=\"dataframe\">\n",
       "  <thead>\n",
       "    <tr style=\"text-align: right;\">\n",
       "      <th></th>\n",
       "      <th>truck</th>\n",
       "      <th>city</th>\n",
       "      <th>state</th>\n",
       "      <th>lat</th>\n",
       "      <th>lng</th>\n",
       "    </tr>\n",
       "  </thead>\n",
       "  <tbody>\n",
       "    <tr>\n",
       "      <th>0</th>\n",
       "      <td>Hartford Plastics Incartford</td>\n",
       "      <td>Florence</td>\n",
       "      <td>AL</td>\n",
       "      <td>34.799810</td>\n",
       "      <td>-87.677251</td>\n",
       "    </tr>\n",
       "    <tr>\n",
       "      <th>1</th>\n",
       "      <td>Beyond Landscape &amp; Design Llcilsonville</td>\n",
       "      <td>Fremont</td>\n",
       "      <td>CA</td>\n",
       "      <td>37.548270</td>\n",
       "      <td>-121.988572</td>\n",
       "    </tr>\n",
       "    <tr>\n",
       "      <th>2</th>\n",
       "      <td>Empire Of Dirt Llcquality</td>\n",
       "      <td>Hampden</td>\n",
       "      <td>ME</td>\n",
       "      <td>44.744542</td>\n",
       "      <td>-68.837044</td>\n",
       "    </tr>\n",
       "    <tr>\n",
       "      <th>3</th>\n",
       "      <td>James Haas Al Haas Shelly Haasairfield</td>\n",
       "      <td>North East</td>\n",
       "      <td>MD</td>\n",
       "      <td>39.600113</td>\n",
       "      <td>-75.941333</td>\n",
       "    </tr>\n",
       "    <tr>\n",
       "      <th>4</th>\n",
       "      <td>Ibrahim Chimandalpharetta</td>\n",
       "      <td>Toledo</td>\n",
       "      <td>OH</td>\n",
       "      <td>41.663938</td>\n",
       "      <td>-83.555212</td>\n",
       "    </tr>\n",
       "  </tbody>\n",
       "</table>\n",
       "</div>"
      ],
      "text/plain": [
       "                                     truck        city state        lat  \\\n",
       "0             Hartford Plastics Incartford    Florence    AL  34.799810   \n",
       "1  Beyond Landscape & Design Llcilsonville     Fremont    CA  37.548270   \n",
       "2                Empire Of Dirt Llcquality     Hampden    ME  44.744542   \n",
       "3   James Haas Al Haas Shelly Haasairfield  North East    MD  39.600113   \n",
       "4                Ibrahim Chimandalpharetta      Toledo    OH  41.663938   \n",
       "\n",
       "          lng  \n",
       "0  -87.677251  \n",
       "1 -121.988572  \n",
       "2  -68.837044  \n",
       "3  -75.941333  \n",
       "4  -83.555212  "
      ]
     },
     "execution_count": 3,
     "metadata": {},
     "output_type": "execute_result"
    }
   ],
   "source": [
    "t.head(5)"
   ]
  },
  {
   "cell_type": "code",
   "execution_count": 4,
   "metadata": {},
   "outputs": [
    {
     "data": {
      "text/html": [
       "<div>\n",
       "<style scoped>\n",
       "    .dataframe tbody tr th:only-of-type {\n",
       "        vertical-align: middle;\n",
       "    }\n",
       "\n",
       "    .dataframe tbody tr th {\n",
       "        vertical-align: top;\n",
       "    }\n",
       "\n",
       "    .dataframe thead th {\n",
       "        text-align: right;\n",
       "    }\n",
       "</style>\n",
       "<table border=\"1\" class=\"dataframe\">\n",
       "  <thead>\n",
       "    <tr style=\"text-align: right;\">\n",
       "      <th></th>\n",
       "      <th>product</th>\n",
       "      <th>origin_city</th>\n",
       "      <th>origin_state</th>\n",
       "      <th>origin_lat</th>\n",
       "      <th>origin_lng</th>\n",
       "      <th>destination_city</th>\n",
       "      <th>destination_state</th>\n",
       "      <th>destination_lat</th>\n",
       "      <th>destination_lng</th>\n",
       "    </tr>\n",
       "  </thead>\n",
       "  <tbody>\n",
       "    <tr>\n",
       "      <th>0</th>\n",
       "      <td>Light bulbs</td>\n",
       "      <td>Sikeston</td>\n",
       "      <td>MO</td>\n",
       "      <td>36.876719</td>\n",
       "      <td>-89.587858</td>\n",
       "      <td>Grapevine</td>\n",
       "      <td>TX</td>\n",
       "      <td>32.934292</td>\n",
       "      <td>-97.078065</td>\n",
       "    </tr>\n",
       "    <tr>\n",
       "      <th>1</th>\n",
       "      <td>Recyclables</td>\n",
       "      <td>Christiansburg</td>\n",
       "      <td>VA</td>\n",
       "      <td>37.129852</td>\n",
       "      <td>-80.408939</td>\n",
       "      <td>Apopka</td>\n",
       "      <td>FL</td>\n",
       "      <td>28.693408</td>\n",
       "      <td>-81.532215</td>\n",
       "    </tr>\n",
       "    <tr>\n",
       "      <th>2</th>\n",
       "      <td>Apples</td>\n",
       "      <td>Columbus</td>\n",
       "      <td>OH</td>\n",
       "      <td>39.961176</td>\n",
       "      <td>-82.998794</td>\n",
       "      <td>Woodland</td>\n",
       "      <td>CA</td>\n",
       "      <td>38.678516</td>\n",
       "      <td>-121.773297</td>\n",
       "    </tr>\n",
       "    <tr>\n",
       "      <th>3</th>\n",
       "      <td>Wood</td>\n",
       "      <td>Hebron</td>\n",
       "      <td>KY</td>\n",
       "      <td>39.066147</td>\n",
       "      <td>-84.703189</td>\n",
       "      <td>Jefferson</td>\n",
       "      <td>LA</td>\n",
       "      <td>29.966037</td>\n",
       "      <td>-90.153130</td>\n",
       "    </tr>\n",
       "    <tr>\n",
       "      <th>4</th>\n",
       "      <td>Cell phones</td>\n",
       "      <td>Hickory</td>\n",
       "      <td>NC</td>\n",
       "      <td>35.734454</td>\n",
       "      <td>-81.344457</td>\n",
       "      <td>La Pine</td>\n",
       "      <td>OR</td>\n",
       "      <td>43.670399</td>\n",
       "      <td>-121.503636</td>\n",
       "    </tr>\n",
       "    <tr>\n",
       "      <th>5</th>\n",
       "      <td>Wood</td>\n",
       "      <td>Northfield</td>\n",
       "      <td>MN</td>\n",
       "      <td>44.458298</td>\n",
       "      <td>-93.161604</td>\n",
       "      <td>Waukegan</td>\n",
       "      <td>IL</td>\n",
       "      <td>42.363633</td>\n",
       "      <td>-87.844794</td>\n",
       "    </tr>\n",
       "    <tr>\n",
       "      <th>6</th>\n",
       "      <td>Oranges</td>\n",
       "      <td>Fort Madison</td>\n",
       "      <td>IA</td>\n",
       "      <td>40.629763</td>\n",
       "      <td>-91.314535</td>\n",
       "      <td>Ottawa</td>\n",
       "      <td>IL</td>\n",
       "      <td>41.345589</td>\n",
       "      <td>-88.842577</td>\n",
       "    </tr>\n",
       "  </tbody>\n",
       "</table>\n",
       "</div>"
      ],
      "text/plain": [
       "       product     origin_city origin_state  origin_lat  origin_lng  \\\n",
       "0  Light bulbs        Sikeston           MO   36.876719  -89.587858   \n",
       "1  Recyclables  Christiansburg           VA   37.129852  -80.408939   \n",
       "2       Apples        Columbus           OH   39.961176  -82.998794   \n",
       "3         Wood          Hebron           KY   39.066147  -84.703189   \n",
       "4  Cell phones         Hickory           NC   35.734454  -81.344457   \n",
       "5         Wood      Northfield           MN   44.458298  -93.161604   \n",
       "6      Oranges    Fort Madison           IA   40.629763  -91.314535   \n",
       "\n",
       "  destination_city destination_state  destination_lat  destination_lng  \n",
       "0        Grapevine                TX        32.934292       -97.078065  \n",
       "1           Apopka                FL        28.693408       -81.532215  \n",
       "2         Woodland                CA        38.678516      -121.773297  \n",
       "3        Jefferson                LA        29.966037       -90.153130  \n",
       "4          La Pine                OR        43.670399      -121.503636  \n",
       "5         Waukegan                IL        42.363633       -87.844794  \n",
       "6           Ottawa                IL        41.345589       -88.842577  "
      ]
     },
     "execution_count": 4,
     "metadata": {},
     "output_type": "execute_result"
    }
   ],
   "source": [
    "c = pd.read_csv(\"../assets/cargo.csv\")\n",
    "c"
   ]
  },
  {
   "cell_type": "code",
   "execution_count": 5,
   "metadata": {},
   "outputs": [
    {
     "data": {
      "text/plain": [
       "[{'product': 'Light bulbs',\n",
       "  'origin_city': 'Sikeston',\n",
       "  'origin_state': 'MO',\n",
       "  'origin_lat': 36.876719,\n",
       "  'origin_lng': -89.5878579,\n",
       "  'destination_city': 'Grapevine',\n",
       "  'destination_state': 'TX',\n",
       "  'destination_lat': 32.9342919,\n",
       "  'destination_lng': -97.0780654}]"
      ]
     },
     "execution_count": 5,
     "metadata": {},
     "output_type": "execute_result"
    }
   ],
   "source": [
    "import json\n",
    "cargos = json.loads(c.to_json(orient='records'))\n",
    "cargos[:1]"
   ]
  },
  {
   "cell_type": "code",
   "execution_count": 6,
   "metadata": {},
   "outputs": [
    {
     "name": "stdout",
     "output_type": "stream",
     "text": [
      "cargos=7 trucks=44\n"
     ]
    }
   ],
   "source": [
    "trucks = json.loads(t.to_json(orient='records'))\n",
    "print(f'cargos={len(cargos)} trucks={len(trucks)}')"
   ]
  },
  {
   "cell_type": "code",
   "execution_count": 7,
   "metadata": {},
   "outputs": [
    {
     "name": "stdout",
     "output_type": "stream",
     "text": [
      "[(36.876719, -89.5878579), (37.1298517, -80.4089389), (39.9611755, -82.9987942)]\n",
      "[(34.79981, -87.677251), (37.5482697, -121.9885719), (44.7445421, -68.8370436)]\n"
     ]
    }
   ],
   "source": [
    "cargo_locs = [(i['origin_lat'], i['origin_lng']) for i in cargos]\n",
    "truck_locs = [(i['lat'], i['lng']) for i in trucks]\n",
    "print(cargo_locs[:3])\n",
    "print(truck_locs[:3])"
   ]
  },
  {
   "cell_type": "code",
   "execution_count": 8,
   "metadata": {},
   "outputs": [
    {
     "data": {
      "text/plain": [
       "<matplotlib.collections.PathCollection at 0x1138873a0>"
      ]
     },
     "execution_count": 8,
     "metadata": {},
     "output_type": "execute_result"
    },
    {
     "data": {
      "image/png": "[encoded data removed]",
      "text/plain": [
       "<Figure size 432x288 with 1 Axes>"
      ]
     },
     "metadata": {
      "needs_background": "light"
     },
     "output_type": "display_data"
    }
   ],
   "source": [
    "from pylab import *\n",
    "\n",
    "y = [i[1] for i in truck_locs]\n",
    "x = [i[0] for i in truck_locs]\n",
    "\n",
    "scatter(x,y, marker='.')\n",
    "\n",
    "y = [i[1] for i in cargo_locs]\n",
    "x = [i[0] for i in cargo_locs]\n",
    "\n",
    "scatter(x,y, marker='*')\n"
   ]
  },
  {
   "cell_type": "code",
   "execution_count": 9,
   "metadata": {},
   "outputs": [],
   "source": [
    "from math import sqrt\n",
    "get_distance = lambda p1, p2: sqrt((p2[0] - p1[0]) **2  + (p2[1] - p1[1])**2 )\n"
   ]
  },
  {
   "cell_type": "code",
   "execution_count": 10,
   "metadata": {},
   "outputs": [],
   "source": [
    "assert get_distance((-3, -11), (2, 1)) == 13"
   ]
  },
  {
   "cell_type": "code",
   "execution_count": 11,
   "metadata": {},
   "outputs": [
    {
     "name": "stdout",
     "output_type": "stream",
     "text": [
      " truck=(36.6634467, -87.4773902), short=2.121216393178825, cargo=(36.876719, -89.5878579)\n",
      " truck=(37.8901411, -78.7047401), short=1.8661011552629718, cargo=(37.1298517, -80.4089389)\n",
      " truck=(40.3933956, -82.4857181), short=0.6708660814463809, cargo=(39.9611755, -82.9987942)\n",
      " truck=(39.244853, -81.6637765), short=3.044661375645079, cargo=(39.0661472, -84.7031888)\n",
      " truck=(33.4473361, -84.1468616), short=3.6172333674110266, cargo=(35.7344538, -81.3444573)\n",
      " truck=(42.6011194, -89.6384532), short=3.9826756114634576, cargo=(44.4582983, -93.161604)\n",
      " truck=(37.338658, -92.9071209), short=3.656187167362734, cargo=(40.6297634, -91.314535)\n"
     ]
    }
   ],
   "source": [
    "busy_trucks = []\n",
    "for p1 in cargo_locs:\n",
    "    shortest_distance = float('inf')\n",
    "    cargo, truck = None, None\n",
    "    for p2 in truck_locs:\n",
    "        if p2 in busy_trucks:\n",
    "            continue\n",
    "\n",
    "        if get_distance(p1,p2) < shortest_distance:\n",
    "            shortest_distance = get_distance(p1,p2)\n",
    "            cargo, truck = p1, p2\n",
    "            busy_trucks.append(p2)\n",
    "\n",
    "    print(f' truck={truck}, short={shortest_distance}, cargo={cargo}')"
   ]
  },
  {
   "cell_type": "code",
   "execution_count": 24,
   "metadata": {},
   "outputs": [
    {
     "data": {
      "text/plain": [
       "Distance(222.67908026526436)"
      ]
     },
     "execution_count": 24,
     "metadata": {},
     "output_type": "execute_result"
    }
   ],
   "source": [
    "from geopy.distance import geodesic\n",
    "geodesic((40.6297634,-91.31453499999999),(41.3455892,-88.8425769))"
   ]
  },
  {
   "cell_type": "code",
   "execution_count": 25,
   "metadata": {},
   "outputs": [
    {
     "name": "stdout",
     "output_type": "stream",
     "text": [
      "5059.192029128326 km\n"
     ]
    }
   ],
   "source": [
    "from geopy.distance import geodesic\n",
    "a = geodesic((44.4582983,-93.161604),(43.67039949999999,-121.503636))\n",
    "b = geodesic((36.876719,-89.5878579),(43.67039949999999,-121.503636))\n",
    "c = a + b\n",
    "print(c)"
   ]
  },
  {
   "cell_type": "code",
   "execution_count": 13,
   "metadata": {},
   "outputs": [
    {
     "name": "stdout",
     "output_type": "stream",
     "text": [
      "{'Light bulbs': 'Viking Products Of Austin Incustin', 'distance': Distance(189.89691067032416)}\n",
      "{'Recyclables': 'Ricardo Juradoacramento', 'distance': Distance(172.68942165355216)}\n",
      "{'Apples': \"Kjellberg'S Carpet Oneuffalo\", 'distance': Distance(64.90743181300715)}\n",
      "{'Wood': 'Wisebuys Stores Incouverneur', 'distance': Distance(263.451566732034)}\n",
      "{'Cell phones': 'Jeffrey A Shepardypsum', 'distance': Distance(346.86649006745955)}\n",
      "{'Wood': 'Gary Lee Wilcoxpencer', 'distance': Distance(347.8845182874006)}\n",
      "{'Oranges': 'Fish-Bones Towingew York', 'distance': Distance(259.70665525268134)}\n"
     ]
    }
   ],
   "source": [
    "busy_trucks = []\n",
    "result = []\n",
    "for cargo in cargos:\n",
    "    shortest_distance = float('inf')\n",
    "    c, t = None, None\n",
    "    for truck in trucks:\n",
    "        if truck in busy_trucks:\n",
    "            continue\n",
    "        p1 = (cargo['origin_lat'], cargo['origin_lng'])\n",
    "        p2 = (truck['lat'], truck['lng'])\n",
    "        if geodesic(p1,p2) < shortest_distance:\n",
    "            shortest_distance = geodesic(p1,p2)\n",
    "            c = cargo['product']\n",
    "            t = truck['truck']\n",
    "            busy_trucks.append(truck)\n",
    "    data = {c:t, 'distance': shortest_distance}\n",
    "    print(data)\n"
   ]
  },
  {
   "cell_type": "code",
   "execution_count": 14,
   "metadata": {},
   "outputs": [
    {
     "data": {
      "text/html": [
       "<div>\n",
       "<style scoped>\n",
       "    .dataframe tbody tr th:only-of-type {\n",
       "        vertical-align: middle;\n",
       "    }\n",
       "\n",
       "    .dataframe tbody tr th {\n",
       "        vertical-align: top;\n",
       "    }\n",
       "\n",
       "    .dataframe thead th {\n",
       "        text-align: right;\n",
       "    }\n",
       "</style>\n",
       "<table border=\"1\" class=\"dataframe\">\n",
       "  <thead>\n",
       "    <tr style=\"text-align: right;\">\n",
       "      <th></th>\n",
       "      <th>Cargo</th>\n",
       "      <th>geometry</th>\n",
       "      <th>Truck</th>\n",
       "      <th>distance</th>\n",
       "    </tr>\n",
       "  </thead>\n",
       "  <tbody>\n",
       "    <tr>\n",
       "      <th>0</th>\n",
       "      <td>Light bulbs</td>\n",
       "      <td>POINT (36.877 -89.588)</td>\n",
       "      <td>Viking Products Of Austin Incustin</td>\n",
       "      <td>2.121216</td>\n",
       "    </tr>\n",
       "    <tr>\n",
       "      <th>1</th>\n",
       "      <td>Recyclables</td>\n",
       "      <td>POINT (37.130 -80.409)</td>\n",
       "      <td>Ricardo Juradoacramento</td>\n",
       "      <td>1.866101</td>\n",
       "    </tr>\n",
       "    <tr>\n",
       "      <th>2</th>\n",
       "      <td>Apples</td>\n",
       "      <td>POINT (39.961 -82.999)</td>\n",
       "      <td>Kjellberg'S Carpet Oneuffalo</td>\n",
       "      <td>0.670866</td>\n",
       "    </tr>\n",
       "    <tr>\n",
       "      <th>3</th>\n",
       "      <td>Wood</td>\n",
       "      <td>POINT (39.066 -84.703)</td>\n",
       "      <td>Kjellberg'S Carpet Oneuffalo</td>\n",
       "      <td>2.584331</td>\n",
       "    </tr>\n",
       "    <tr>\n",
       "      <th>4</th>\n",
       "      <td>Cell phones</td>\n",
       "      <td>POINT (35.734 -81.344)</td>\n",
       "      <td>Paul J Krez Companyorton Grove</td>\n",
       "      <td>0.656831</td>\n",
       "    </tr>\n",
       "    <tr>\n",
       "      <th>5</th>\n",
       "      <td>Wood</td>\n",
       "      <td>POINT (44.458 -93.162)</td>\n",
       "      <td>Fish-Bones Towingew York</td>\n",
       "      <td>3.982676</td>\n",
       "    </tr>\n",
       "    <tr>\n",
       "      <th>6</th>\n",
       "      <td>Oranges</td>\n",
       "      <td>POINT (40.630 -91.315)</td>\n",
       "      <td>Fish-Bones Towingew York</td>\n",
       "      <td>2.587565</td>\n",
       "    </tr>\n",
       "  </tbody>\n",
       "</table>\n",
       "</div>"
      ],
      "text/plain": [
       "         Cargo                geometry                               Truck  \\\n",
       "0  Light bulbs  POINT (36.877 -89.588)  Viking Products Of Austin Incustin   \n",
       "1  Recyclables  POINT (37.130 -80.409)             Ricardo Juradoacramento   \n",
       "2       Apples  POINT (39.961 -82.999)        Kjellberg'S Carpet Oneuffalo   \n",
       "3         Wood  POINT (39.066 -84.703)        Kjellberg'S Carpet Oneuffalo   \n",
       "4  Cell phones  POINT (35.734 -81.344)      Paul J Krez Companyorton Grove   \n",
       "5         Wood  POINT (44.458 -93.162)            Fish-Bones Towingew York   \n",
       "6      Oranges  POINT (40.630 -91.315)            Fish-Bones Towingew York   \n",
       "\n",
       "   distance  \n",
       "0  2.121216  \n",
       "1  1.866101  \n",
       "2  0.670866  \n",
       "3  2.584331  \n",
       "4  0.656831  \n",
       "5  3.982676  \n",
       "6  2.587565  "
      ]
     },
     "execution_count": 14,
     "metadata": {},
     "output_type": "execute_result"
    }
   ],
   "source": [
    "import geopandas as gpd\n",
    "import numpy as np\n",
    "import pandas as pd\n",
    "\n",
    "from scipy.spatial import cKDTree\n",
    "from shapely.geometry import Point\n",
    "\n",
    "td = [[i['truck'],Point(i['lat'], i['lng'])] for i in trucks]\n",
    "tc = [[i['product'],Point(i['origin_lat'], i['origin_lng'])] for i in cargos]\n",
    "\n",
    "gpd1 = gpd.GeoDataFrame(td, columns=['Truck', 'geometry'])\n",
    "gpd2 = gpd.GeoDataFrame(tc, columns=['Cargo', 'geometry'])\n",
    "\n",
    "def get_nearest(gdA, gdB):\n",
    "    nA = np.array(list(gdA.geometry.apply(lambda x: (x.x, x.y)))) # Cargo\n",
    "    nB = np.array(list(gdB.geometry.apply(lambda x: (x.x, x.y)))) # Truks\n",
    "    btree = cKDTree(nB)\n",
    "    dist, idx = btree.query(nA, k=1)\n",
    "    gdf = pd.concat([\n",
    "        gdA.reset_index(drop=True), \n",
    "        gdB.loc[idx, gdB.columns != 'geometry'].reset_index(drop=True),\n",
    "        pd.Series(dist, name='distance')\n",
    "    ], axis=1)\n",
    "    return gdf\n",
    "\n",
    "get_nearest(gpd2, gpd1)\n"
   ]
  },
  {
   "cell_type": "code",
   "execution_count": 16,
   "metadata": {},
   "outputs": [],
   "source": [
    "class Node:\n",
    "    def __init__(self, point=(None, None), name=None):\n",
    "        self.point = point\n",
    "        self.name = name\n",
    "        self.left = None\n",
    "        self.right = None\n",
    "\n",
    "    @property\n",
    "    def lat(self):\n",
    "        return self.point[0]\n",
    "\n",
    "    @property\n",
    "    def lng(self):\n",
    "        return self.point[1]\n",
    "    \n",
    "    \n",
    "    @staticmethod\n",
    "    def _get_axis(depth):\n",
    "        return depth % 2\n",
    "\n",
    "    @classmethod\n",
    "    def build(cls, nodes, depth=0):\n",
    "        length = len(nodes)\n",
    "        if length == 0: \n",
    "            return None\n",
    "\n",
    "        axis = cls._get_axis(depth)\n",
    "        nodes.sort(key=lambda node: node.point[axis])\n",
    "\n",
    "        node = nodes[length // 2]\n",
    "        node.left = cls.build(nodes[: length // 2], depth + 1)\n",
    "        node.right = cls.build(nodes[length // 2 + 1 :], depth + 1)\n",
    "\n",
    "        return node\n",
    "\n",
    "    @classmethod\n",
    "    def get_closest(cls, root, target, mapping, depth=0):\n",
    "        path = {}\n",
    "        cls._get_closest_node(root, target, depth, path, mapping)\n",
    "        ranking = sorted(path.keys(), key=lambda key: path[key])\n",
    "        closest = ranking.pop(0)\n",
    "        while mapping.get(closest) is not None:\n",
    "            closest = ranking.pop(0)\n",
    "        mapping[closest] = target\n",
    "        return path, closest\n",
    "\n",
    "    @classmethod\n",
    "    def _get_closest_node(cls, root, target, depth, path, mapping):\n",
    "        if root is None: \n",
    "            return\n",
    "\n",
    "        axis = cls._get_axis(depth)\n",
    "        next_node, opposite_node = cls._decide_next_node(root, target, axis)\n",
    "        \n",
    "        closest_node = lambda node: cls._get_closest_node(node, target, depth + 1, path, mapping)\n",
    "        decide_best = lambda node: cls._decide_closer(target, closest, node)\n",
    "        best_distance = lambda best: geodesic(target.point, best.point)\n",
    "        \n",
    "        closest = closest_node(next_node)\n",
    "        best = decide_best(root)\n",
    "        \n",
    "        if best_distance(best) > abs(target.point[axis] - root.point[axis]):\n",
    "            closest = closest_node(opposite_node)\n",
    "            best = decide_best(best)\n",
    "\n",
    "        if mapping.get(best) is not None:\n",
    "            return\n",
    "\n",
    "        path[best] = best_distance(best)\n",
    "        return best  \n",
    "\n",
    "    @staticmethod\n",
    "    def _decide_next_node(root, target, axis):\n",
    "        if target.point[axis] < root.point[axis]:\n",
    "            return root.left, root.right\n",
    "        return root.right, root.left\n",
    "\n",
    "    @classmethod\n",
    "    def _decide_closer(cls, target, point_a, point_b):\n",
    "        if point_a is None:\n",
    "            return point_b\n",
    "        elif point_b is None:\n",
    "            return point_a\n",
    "\n",
    "        distance_a = geodesic(target.point, point_a.point)\n",
    "        distance_b = geodesic(target.point, point_b.point)\n",
    "\n",
    "        return point_a if distance_a < distance_b else point_b\n",
    "\n",
    "\n",
    "    def __repr__(self):\n",
    "        return f\"<name:{self.name}, lat:{self.lat}, lng:{self.lng}>\"\n"
   ]
  },
  {
   "cell_type": "code",
   "execution_count": 17,
   "metadata": {},
   "outputs": [],
   "source": [
    "class KdTree:\n",
    "    def __init__(self, nodes):\n",
    "        self.root = Node.build(nodes)\n",
    "        self.mapping = {}\n",
    "\n",
    "    def get_closest(self, target):\n",
    "        return Node.get_closest(self.root, target, self.mapping)\n"
   ]
  },
  {
   "cell_type": "code",
   "execution_count": 33,
   "metadata": {},
   "outputs": [],
   "source": [
    "class SearchTree:\n",
    "    def __init__(self, cargos, trucks):\n",
    "        self.cargo_nodes, self.truck_nodes = self.build_nodes(cargos, trucks, Node)\n",
    "        self.tree = None\n",
    "\n",
    "    @staticmethod\n",
    "    def build_nodes(cargos, trucks, node_class):\n",
    "        cargo_nodes = [node_class((item['origin_lat'], item['origin_lng']), item['product']) for item in cargos]\n",
    "        truck_nodes = [node_class((item['lat'], item['lng']), item['truck']) for item in trucks]\n",
    "        return cargo_nodes, truck_nodes\n",
    "\n",
    "    def build(self):\n",
    "        self.tree = KdTree(self.truck_nodes)\n",
    "\n",
    "    def truck_assignment(self):\n",
    "        response = []\n",
    "        for cargo in self.cargo_nodes:\n",
    "            path, truck = self.tree.get_closest(cargo)\n",
    "            response.append({\n",
    "                \"cargo\": cargo.name, \n",
    "                \"truck\": truck.name, \n",
    "                \"distance\": round(path[truck].miles, 2)\n",
    "            })\n",
    "\n",
    "        return response\n"
   ]
  },
  {
   "cell_type": "code",
   "execution_count": 34,
   "metadata": {},
   "outputs": [
    {
     "data": {
      "text/plain": [
       "[{'cargo': 'Light bulbs',\n",
       "  'truck': 'Viking Products Of Austin Incustin',\n",
       "  'distance': 118.0},\n",
       " {'cargo': 'Recyclables',\n",
       "  'truck': 'Ricardo Juradoacramento',\n",
       "  'distance': 107.3},\n",
       " {'cargo': 'Apples',\n",
       "  'truck': \"Kjellberg'S Carpet Oneuffalo\",\n",
       "  'distance': 40.33},\n",
       " {'cargo': 'Wood', 'truck': 'Wisebuys Stores Incouverneur', 'distance': 163.7},\n",
       " {'cargo': 'Cell phones',\n",
       "  'truck': 'Paul J Krez Companyorton Grove',\n",
       "  'distance': 40.29},\n",
       " {'cargo': 'Wood', 'truck': 'Gary Lee Wilcoxpencer', 'distance': 216.17},\n",
       " {'cargo': 'Oranges', 'truck': 'Fish-Bones Towingew York', 'distance': 161.37}]"
      ]
     },
     "execution_count": 34,
     "metadata": {},
     "output_type": "execute_result"
    }
   ],
   "source": [
    "tree = SearchTree(cargos, trucks)\n",
    "tree.build()\n",
    "tree.truck_assignment()"
   ]
  },
  {
   "cell_type": "code",
   "execution_count": 20,
   "metadata": {},
   "outputs": [
    {
     "data": {
      "text/plain": [
       "[{'cargo': 'Light bulbs', 'truck': 'Viking Products Of Austin Incustin'},\n",
       " {'cargo': 'Recyclables', 'truck': 'Ricardo Juradoacramento'},\n",
       " {'cargo': 'Apples', 'truck': \"Kjellberg'S Carpet Oneuffalo\"},\n",
       " {'cargo': 'Wood', 'truck': 'Wisebuys Stores Incouverneur'},\n",
       " {'cargo': 'Cell phones', 'truck': 'Paul J Krez Companyorton Grove'},\n",
       " {'cargo': 'Wood', 'truck': 'Gary Lee Wilcoxpencer'},\n",
       " {'cargo': 'Oranges', 'truck': 'Fish-Bones Towingew York'}]"
      ]
     },
     "execution_count": 20,
     "metadata": {},
     "output_type": "execute_result"
    }
   ],
   "source": [
    "[\n",
    "    {'cargo': 'Light bulbs', 'truck': 'Viking Products Of Austin Incustin'}, \n",
    "    {'cargo': 'Recyclables', 'truck': 'Ricardo Juradoacramento'}, \n",
    "    {'cargo': 'Apples', 'truck': \"Kjellberg'S Carpet Oneuffalo\"}, \n",
    "    {'cargo': 'Wood', 'truck': 'Wisebuys Stores Incouverneur'}, \n",
    "    {'cargo': 'Cell phones', 'truck': 'Paul J Krez Companyorton Grove'}, \n",
    "    {'cargo': 'Wood', 'truck': 'Gary Lee Wilcoxpencer'}, \n",
    "    {'cargo': 'Oranges', 'truck': 'Fish-Bones Towingew York'}\n",
    "]"
   ]
  },
  {
   "cell_type": "code",
   "execution_count": 21,
   "metadata": {},
   "outputs": [
    {
     "data": {
      "text/plain": [
       "[{'cargo': (36.876719, -89.5878579), 'truck': (36.6634467, -87.4773902)},\n",
       " {'cargo': (37.1298517, -80.4089389), 'truck': (37.8901411, -78.7047401)},\n",
       " {'cargo': (39.9611755, -82.9987942), 'truck': (40.3933956, -82.4857181)},\n",
       " {'cargo': (39.0661472, -84.7031888), 'truck': (39.244853, -81.6637765)},\n",
       " {'cargo': (35.7344538, -81.3444573), 'truck': (35.3340108, -81.8651028)},\n",
       " {'cargo': (44.4582983, -93.161604), 'truck': (45.9171763, -89.2442988)},\n",
       " {'cargo': (40.6297634, -91.314535), 'truck': (42.6011194, -89.6384532)}]"
      ]
     },
     "execution_count": 21,
     "metadata": {},
     "output_type": "execute_result"
    }
   ],
   "source": [
    "[\n",
    "    {'cargo': (36.876719, -89.5878579), 'truck': (36.6634467, -87.4773902)}, \n",
    "    {'cargo': (37.1298517, -80.4089389), 'truck': (37.8901411, -78.7047401)}, \n",
    "    {'cargo': (39.9611755, -82.9987942), 'truck': (40.3933956, -82.4857181)}, \n",
    "    {'cargo': (39.0661472, -84.7031888), 'truck': (39.244853, -81.6637765)}, \n",
    "    {'cargo': (35.7344538, -81.3444573), 'truck': (35.3340108, -81.8651028)}, \n",
    "    {'cargo': (44.4582983, -93.161604), 'truck': (45.9171763, -89.2442988)}, \n",
    "    {'cargo': (40.6297634, -91.314535), 'truck': (42.6011194, -89.6384532)}\n",
    "]\n"
   ]
  }
 ],
 "metadata": {
  "kernelspec": {
   "display_name": "Python 3",
   "language": "python",
   "name": "python3"
  },
  "language_info": {
   "codemirror_mode": {
    "name": "ipython",
    "version": 3
   },
   "file_extension": ".py",
   "mimetype": "text/x-python",
   "name": "python",
   "nbconvert_exporter": "python",
   "pygments_lexer": "ipython3",
   "version": "3.8.5"
  }
 },
 "nbformat": 4,
 "nbformat_minor": 4
}
